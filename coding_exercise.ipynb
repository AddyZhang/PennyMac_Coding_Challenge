{
 "cells": [
  {
   "cell_type": "markdown",
   "metadata": {},
   "source": [
    "## Problem 1 - solved with pandas"
   ]
  },
  {
   "cell_type": "code",
   "execution_count": 1,
   "metadata": {},
   "outputs": [
    {
     "data": {
      "text/html": [
       "<div>\n",
       "<style scoped>\n",
       "    .dataframe tbody tr th:only-of-type {\n",
       "        vertical-align: middle;\n",
       "    }\n",
       "\n",
       "    .dataframe tbody tr th {\n",
       "        vertical-align: top;\n",
       "    }\n",
       "\n",
       "    .dataframe thead th {\n",
       "        text-align: right;\n",
       "    }\n",
       "</style>\n",
       "<table border=\"1\" class=\"dataframe\">\n",
       "  <thead>\n",
       "    <tr style=\"text-align: right;\">\n",
       "      <th></th>\n",
       "      <th>Dy</th>\n",
       "      <th>MxT</th>\n",
       "      <th>MnT</th>\n",
       "    </tr>\n",
       "  </thead>\n",
       "  <tbody>\n",
       "    <tr>\n",
       "      <td>0</td>\n",
       "      <td>1</td>\n",
       "      <td>88</td>\n",
       "      <td>59</td>\n",
       "    </tr>\n",
       "    <tr>\n",
       "      <td>1</td>\n",
       "      <td>2</td>\n",
       "      <td>79</td>\n",
       "      <td>63</td>\n",
       "    </tr>\n",
       "    <tr>\n",
       "      <td>2</td>\n",
       "      <td>3</td>\n",
       "      <td>77</td>\n",
       "      <td>55</td>\n",
       "    </tr>\n",
       "    <tr>\n",
       "      <td>3</td>\n",
       "      <td>4</td>\n",
       "      <td>77</td>\n",
       "      <td>59</td>\n",
       "    </tr>\n",
       "    <tr>\n",
       "      <td>4</td>\n",
       "      <td>5</td>\n",
       "      <td>90</td>\n",
       "      <td>66</td>\n",
       "    </tr>\n",
       "  </tbody>\n",
       "</table>\n",
       "</div>"
      ],
      "text/plain": [
       "  Dy MxT MnT\n",
       "0  1  88  59\n",
       "1  2  79  63\n",
       "2  3  77  55\n",
       "3  4  77  59\n",
       "4  5  90  66"
      ]
     },
     "execution_count": 1,
     "metadata": {},
     "output_type": "execute_result"
    }
   ],
   "source": [
    "import pandas as pd\n",
    "\n",
    "# import data\n",
    "data1 = pd.read_csv('dataset/weather_data.dat',skiprows=3,sep='\\s+',usecols=['Dy','MxT','MnT'])\n",
    "\n",
    "# visulize the first 5\n",
    "data1.head()"
   ]
  },
  {
   "cell_type": "code",
   "execution_count": 2,
   "metadata": {},
   "outputs": [
    {
     "data": {
      "text/plain": [
       "Dy     object\n",
       "MxT    object\n",
       "MnT    object\n",
       "dtype: object"
      ]
     },
     "execution_count": 2,
     "metadata": {},
     "output_type": "execute_result"
    }
   ],
   "source": [
    "# check column dtype\n",
    "data1.dtypes"
   ]
  },
  {
   "cell_type": "code",
   "execution_count": 3,
   "metadata": {},
   "outputs": [
    {
     "data": {
      "text/plain": [
       "8      32*\n",
       "30    60.5\n",
       "31     NaN\n",
       "Name: MnT, dtype: object"
      ]
     },
     "execution_count": 3,
     "metadata": {},
     "output_type": "execute_result"
    }
   ],
   "source": [
    "# check which data str contains non-numeric characters\n",
    "data1['MnT_numeric'] = data1['MnT'].apply(lambda x: str(x).isnumeric())\n",
    "data1[~data1['MnT_numeric']]['MnT']"
   ]
  },
  {
   "cell_type": "code",
   "execution_count": 4,
   "metadata": {},
   "outputs": [],
   "source": [
    "def remove_star(value_str):\n",
    "    return value_str.split('*')[0]"
   ]
  },
  {
   "cell_type": "code",
   "execution_count": 5,
   "metadata": {},
   "outputs": [],
   "source": [
    "# modify in place\n",
    "data1['MnT'].iat[8] = remove_star(data1['MnT'].iat[8])"
   ]
  },
  {
   "cell_type": "code",
   "execution_count": 6,
   "metadata": {},
   "outputs": [
    {
     "data": {
      "text/plain": [
       "25     97*\n",
       "30    82.9\n",
       "31     NaN\n",
       "Name: MxT, dtype: object"
      ]
     },
     "execution_count": 6,
     "metadata": {},
     "output_type": "execute_result"
    }
   ],
   "source": [
    "# check which data str contains non-numeric characters\n",
    "data1['MxT_numeric'] = data1['MxT'].apply(lambda x: str(x).isnumeric())\n",
    "data1[~data1['MxT_numeric']]['MxT']"
   ]
  },
  {
   "cell_type": "code",
   "execution_count": 7,
   "metadata": {},
   "outputs": [],
   "source": [
    "# modify in place\n",
    "data1['MxT'].iat[25] = remove_star(data1['MxT'].iat[25])"
   ]
  },
  {
   "cell_type": "code",
   "execution_count": 8,
   "metadata": {},
   "outputs": [],
   "source": [
    "# change the column dtype to float\n",
    "data1['MxT'] = data1['MxT'].astype('float')\n",
    "data1['MnT'] = data1['MnT'].astype('float')"
   ]
  },
  {
   "cell_type": "code",
   "execution_count": 9,
   "metadata": {},
   "outputs": [
    {
     "data": {
      "text/html": [
       "<div>\n",
       "<style scoped>\n",
       "    .dataframe tbody tr th:only-of-type {\n",
       "        vertical-align: middle;\n",
       "    }\n",
       "\n",
       "    .dataframe tbody tr th {\n",
       "        vertical-align: top;\n",
       "    }\n",
       "\n",
       "    .dataframe thead th {\n",
       "        text-align: right;\n",
       "    }\n",
       "</style>\n",
       "<table border=\"1\" class=\"dataframe\">\n",
       "  <thead>\n",
       "    <tr style=\"text-align: right;\">\n",
       "      <th></th>\n",
       "      <th>Dy</th>\n",
       "      <th>daily_spread</th>\n",
       "    </tr>\n",
       "  </thead>\n",
       "  <tbody>\n",
       "    <tr>\n",
       "      <td>13</td>\n",
       "      <td>14</td>\n",
       "      <td>2.0</td>\n",
       "    </tr>\n",
       "  </tbody>\n",
       "</table>\n",
       "</div>"
      ],
      "text/plain": [
       "    Dy  daily_spread\n",
       "13  14           2.0"
      ]
     },
     "execution_count": 9,
     "metadata": {},
     "output_type": "execute_result"
    }
   ],
   "source": [
    "# get the spread between daily minimum and maximum\n",
    "data1['daily_spread'] = data1['MxT'] - data1['MnT']\n",
    "\n",
    "# get the minimum spread and its day\n",
    "data1[data1['daily_spread'] == data1['daily_spread'].min()][['Dy','daily_spread']]"
   ]
  },
  {
   "cell_type": "code",
   "execution_count": 10,
   "metadata": {},
   "outputs": [
    {
     "data": {
      "text/html": [
       "<div>\n",
       "<style scoped>\n",
       "    .dataframe tbody tr th:only-of-type {\n",
       "        vertical-align: middle;\n",
       "    }\n",
       "\n",
       "    .dataframe tbody tr th {\n",
       "        vertical-align: top;\n",
       "    }\n",
       "\n",
       "    .dataframe thead th {\n",
       "        text-align: right;\n",
       "    }\n",
       "</style>\n",
       "<table border=\"1\" class=\"dataframe\">\n",
       "  <thead>\n",
       "    <tr style=\"text-align: right;\">\n",
       "      <th></th>\n",
       "      <th>Dy</th>\n",
       "    </tr>\n",
       "  </thead>\n",
       "  <tbody>\n",
       "    <tr>\n",
       "      <td>13</td>\n",
       "      <td>14</td>\n",
       "    </tr>\n",
       "  </tbody>\n",
       "</table>\n",
       "</div>"
      ],
      "text/plain": [
       "    Dy\n",
       "13  14"
      ]
     },
     "execution_count": 10,
     "metadata": {},
     "output_type": "execute_result"
    }
   ],
   "source": [
    "# get day with minimum spread\n",
    "data1[data1['daily_spread'] == data1['daily_spread'].min()][['Dy']]"
   ]
  },
  {
   "cell_type": "markdown",
   "metadata": {},
   "source": [
    "## Problem 1 - solved without pandas"
   ]
  },
  {
   "cell_type": "code",
   "execution_count": 11,
   "metadata": {},
   "outputs": [
    {
     "name": "stdout",
     "output_type": "stream",
     "text": [
      "The smallest spread is on day 14 with value 2.\n"
     ]
    }
   ],
   "source": [
    "# get file\n",
    "f1 = open('dataset/weather_data.dat', 'r')\n",
    "\n",
    "# global minimum value\n",
    "min_val = float('inf')\n",
    "\n",
    "# iterate line\n",
    "for line in f1:\n",
    "    \n",
    "    # remove white spaces from the end\n",
    "    item = line.rstrip()\n",
    "    \n",
    "    # get the list before '-'\n",
    "    list1 = item.split()\n",
    "    \n",
    "    # check if list1 has elements\n",
    "    if list1:\n",
    "        # check if the first char in first element is digit or not\n",
    "        if list1[0][0].isnumeric():\n",
    "            try:\n",
    "                maximum = int(list1[1])\n",
    "            except:\n",
    "                # get maximum with numbers before star\n",
    "                maximum = int(list1[1].split('*')[0])\n",
    "\n",
    "            try:\n",
    "                minimum = int(list1[2])\n",
    "            except:\n",
    "                # get minimum with numbers before star\n",
    "                minimum = int(list1[2].split('*')[0])\n",
    "            \n",
    "            # get difference\n",
    "            diff = maximum - minimum\n",
    "            \n",
    "            # get minimum\n",
    "            if min_val> diff:\n",
    "                min_val = diff\n",
    "                min_day = list1[0]\n",
    "\n",
    "print('The smallest spread is on day {} with value {}.'.format(min_day,min_val))\n",
    "f1.close()\n"
   ]
  },
  {
   "cell_type": "markdown",
   "metadata": {},
   "source": [
    "## Problem 2 - solved with pandas"
   ]
  },
  {
   "cell_type": "code",
   "execution_count": 12,
   "metadata": {},
   "outputs": [
    {
     "data": {
      "text/html": [
       "<div>\n",
       "<style scoped>\n",
       "    .dataframe tbody tr th:only-of-type {\n",
       "        vertical-align: middle;\n",
       "    }\n",
       "\n",
       "    .dataframe tbody tr th {\n",
       "        vertical-align: top;\n",
       "    }\n",
       "\n",
       "    .dataframe thead th {\n",
       "        text-align: right;\n",
       "    }\n",
       "</style>\n",
       "<table border=\"1\" class=\"dataframe\">\n",
       "  <thead>\n",
       "    <tr style=\"text-align: right;\">\n",
       "      <th></th>\n",
       "      <th></th>\n",
       "      <th>D</th>\n",
       "      <th>A</th>\n",
       "    </tr>\n",
       "  </thead>\n",
       "  <tbody>\n",
       "    <tr>\n",
       "      <td>1.</td>\n",
       "      <td>Arsenal</td>\n",
       "      <td>79.0</td>\n",
       "      <td>36.0</td>\n",
       "    </tr>\n",
       "    <tr>\n",
       "      <td>2.</td>\n",
       "      <td>Liverpool</td>\n",
       "      <td>67.0</td>\n",
       "      <td>30.0</td>\n",
       "    </tr>\n",
       "    <tr>\n",
       "      <td>3.</td>\n",
       "      <td>Manchester_U</td>\n",
       "      <td>87.0</td>\n",
       "      <td>45.0</td>\n",
       "    </tr>\n",
       "    <tr>\n",
       "      <td>4.</td>\n",
       "      <td>Newcastle</td>\n",
       "      <td>74.0</td>\n",
       "      <td>52.0</td>\n",
       "    </tr>\n",
       "    <tr>\n",
       "      <td>5.</td>\n",
       "      <td>Leeds</td>\n",
       "      <td>53.0</td>\n",
       "      <td>37.0</td>\n",
       "    </tr>\n",
       "  </tbody>\n",
       "</table>\n",
       "</div>"
      ],
      "text/plain": [
       "                    D     A\n",
       "1. Arsenal       79.0  36.0\n",
       "2. Liverpool     67.0  30.0\n",
       "3. Manchester_U  87.0  45.0\n",
       "4. Newcastle     74.0  52.0\n",
       "5. Leeds         53.0  37.0"
      ]
     },
     "execution_count": 12,
     "metadata": {},
     "output_type": "execute_result"
    }
   ],
   "source": [
    "# read data\n",
    "data2 = pd.read_csv('dataset/soccer_data.dat',skiprows=2, sep = '\\s+', engine='python', usecols=['D','A'])\n",
    "\n",
    "# visualize data\n",
    "data2.head()"
   ]
  },
  {
   "cell_type": "code",
   "execution_count": 13,
   "metadata": {},
   "outputs": [
    {
     "data": {
      "text/plain": [
       "D    float64\n",
       "A    float64\n",
       "dtype: object"
      ]
     },
     "execution_count": 13,
     "metadata": {},
     "output_type": "execute_result"
    }
   ],
   "source": [
    "# check data types\n",
    "data2.dtypes"
   ]
  },
  {
   "cell_type": "code",
   "execution_count": 14,
   "metadata": {},
   "outputs": [
    {
     "data": {
      "text/html": [
       "<div>\n",
       "<style scoped>\n",
       "    .dataframe tbody tr th:only-of-type {\n",
       "        vertical-align: middle;\n",
       "    }\n",
       "\n",
       "    .dataframe tbody tr th {\n",
       "        vertical-align: top;\n",
       "    }\n",
       "\n",
       "    .dataframe thead th {\n",
       "        text-align: right;\n",
       "    }\n",
       "</style>\n",
       "<table border=\"1\" class=\"dataframe\">\n",
       "  <thead>\n",
       "    <tr style=\"text-align: right;\">\n",
       "      <th></th>\n",
       "      <th></th>\n",
       "      <th>D</th>\n",
       "      <th>A</th>\n",
       "      <th>difference</th>\n",
       "    </tr>\n",
       "  </thead>\n",
       "  <tbody>\n",
       "    <tr>\n",
       "      <td>8.</td>\n",
       "      <td>Aston_Villa</td>\n",
       "      <td>46.0</td>\n",
       "      <td>47.0</td>\n",
       "      <td>1.0</td>\n",
       "    </tr>\n",
       "  </tbody>\n",
       "</table>\n",
       "</div>"
      ],
      "text/plain": [
       "                   D     A  difference\n",
       "8. Aston_Villa  46.0  47.0         1.0"
      ]
     },
     "execution_count": 14,
     "metadata": {},
     "output_type": "execute_result"
    }
   ],
   "source": [
    "# get difference\n",
    "data2['difference'] = abs(data2['D'] - data2['A'])\n",
    "\n",
    "# get minimum difference\n",
    "data2[data2['difference'] == data2['difference'].min()]"
   ]
  },
  {
   "cell_type": "code",
   "execution_count": 15,
   "metadata": {},
   "outputs": [
    {
     "data": {
      "text/plain": [
       "'Aston_Villa'"
      ]
     },
     "execution_count": 15,
     "metadata": {},
     "output_type": "execute_result"
    }
   ],
   "source": [
    "# get the name of team\n",
    "data2[data2['difference'] == data2['difference'].min()].index[0][1]"
   ]
  },
  {
   "cell_type": "markdown",
   "metadata": {},
   "source": [
    "## Problem 2 - solved without pandas"
   ]
  },
  {
   "cell_type": "code",
   "execution_count": 16,
   "metadata": {},
   "outputs": [
    {
     "name": "stdout",
     "output_type": "stream",
     "text": [
      "The team Aston_Villa has smallest difference in \"for\" and \"against\" goals with value 1.\n"
     ]
    }
   ],
   "source": [
    "# get file\n",
    "f2 = open('dataset/soccer_data.dat', 'r')\n",
    "\n",
    "# global minimum value\n",
    "min_val = float('inf')\n",
    "\n",
    "# iterate line\n",
    "for line in f2:\n",
    "    \n",
    "    # remove white spaces from the end\n",
    "    item = line.rstrip()\n",
    "    \n",
    "    # split with '-'\n",
    "    x = item.split('-')\n",
    "    \n",
    "    # get the list before '-'\n",
    "    list1 = x[0].split()\n",
    "    \n",
    "    # if list1 contains elements\n",
    "    if list1:\n",
    "        \n",
    "        # check the first element is digit or not\n",
    "        if list1[0][0].isnumeric():\n",
    "            \n",
    "            # get the list after '-'\n",
    "            list2 = x[1].split()\n",
    "            \n",
    "            # get f and a\n",
    "            f = list1[-1]\n",
    "            a = list2[0]\n",
    "            \n",
    "            # get difference\n",
    "            diff = abs(int(f)-int(a))\n",
    "            \n",
    "            # check if it is less than minimum\n",
    "            if diff < min_val:\n",
    "                min_val = diff\n",
    "                min_name = list1[1]\n",
    "\n",
    "print('The team {} has smallest difference in \"for\" and \"against\" goals with value {}.'.format(min_name, min_val)) \n",
    "\n",
    "f2.close()\n"
   ]
  },
  {
   "cell_type": "code",
   "execution_count": null,
   "metadata": {},
   "outputs": [],
   "source": []
  }
 ],
 "metadata": {
  "kernelspec": {
   "display_name": "Python 3",
   "language": "python",
   "name": "python3"
  },
  "language_info": {
   "codemirror_mode": {
    "name": "ipython",
    "version": 3
   },
   "file_extension": ".py",
   "mimetype": "text/x-python",
   "name": "python",
   "nbconvert_exporter": "python",
   "pygments_lexer": "ipython3",
   "version": "3.7.4"
  }
 },
 "nbformat": 4,
 "nbformat_minor": 2
}
